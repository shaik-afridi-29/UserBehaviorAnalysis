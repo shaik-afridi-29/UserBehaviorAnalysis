{
  "cells": [
    {
      "cell_type": "code",
      "execution_count": 41,
      "id": "39f225d4-172d-421b-9aec-adecf0208b1e",
      "metadata": {
        "id": "39f225d4-172d-421b-9aec-adecf0208b1e"
      },
      "outputs": [],
      "source": [
        "import warnings\n",
        "warnings.filterwarnings(\"ignore\")"
      ]
    },
    {
      "cell_type": "code",
      "execution_count": 42,
      "id": "e690c3cf-ab1c-4c64-a45e-822d500e250f",
      "metadata": {
        "id": "e690c3cf-ab1c-4c64-a45e-822d500e250f"
      },
      "outputs": [],
      "source": [
        "import pandas as pd\n",
        "import matplotlib.pyplot as plt\n",
        "import seaborn as sns"
      ]
    },
    {
      "cell_type": "markdown",
      "id": "1339472b-927e-4365-af7a-decfef1ff301",
      "metadata": {
        "id": "1339472b-927e-4365-af7a-decfef1ff301"
      },
      "source": [
        "### Importing datsets"
      ]
    },
    {
      "cell_type": "code",
      "execution_count": 43,
      "id": "75770f9c-440b-4b36-b8fe-da9828b24357",
      "metadata": {
        "id": "75770f9c-440b-4b36-b8fe-da9828b24357"
      },
      "outputs": [],
      "source": [
        "sheets=pd.ExcelFile(\"/content/Data Analyst Intern Assignment - Excel.xlsx\")"
      ]
    },
    {
      "cell_type": "code",
      "source": [
        "sheets.sheet_names"
      ],
      "metadata": {
        "colab": {
          "base_uri": "https://localhost:8080/"
        },
        "id": "SUNkCWqo2YcN",
        "outputId": "242952f1-5ea4-46ee-8368-06896c84b1ab"
      },
      "id": "SUNkCWqo2YcN",
      "execution_count": 44,
      "outputs": [
        {
          "output_type": "execute_result",
          "data": {
            "text/plain": [
              "['UserDetails.csv', 'CookingSessions.csv', 'OrderDetails.csv']"
            ]
          },
          "metadata": {},
          "execution_count": 44
        }
      ]
    },
    {
      "cell_type": "code",
      "source": [
        "user_details = pd.read_excel(sheets, sheet_name=\"UserDetails.csv\")\n",
        "cooking_sessions = pd.read_excel(sheets, sheet_name=\"CookingSessions.csv\")\n",
        "order_details = pd.read_excel(sheets, sheet_name=\"OrderDetails.csv\")"
      ],
      "metadata": {
        "id": "-OJzuQaZ2dRA"
      },
      "id": "-OJzuQaZ2dRA",
      "execution_count": 45,
      "outputs": []
    },
    {
      "cell_type": "code",
      "source": [
        "print(user_details.head())"
      ],
      "metadata": {
        "colab": {
          "base_uri": "https://localhost:8080/"
        },
        "id": "QtSlVF5V2dTR",
        "outputId": "fdcb1a63-f80b-4fea-8719-af32d143648d"
      },
      "id": "QtSlVF5V2dTR",
      "execution_count": 46,
      "outputs": [
        {
          "output_type": "stream",
          "name": "stdout",
          "text": [
            "  User ID      User Name  Age       Location Registration Date         Phone  \\\n",
            "0    U001  Alice Johnson   28       New York        2023-01-15  123-456-7890   \n",
            "1    U002      Bob Smith   35    Los Angeles        2023-02-20  987-654-3210   \n",
            "2    U003    Charlie Lee   42        Chicago        2023-03-10  555-123-4567   \n",
            "3    U004    David Brown   27  San Francisco        2023-04-05  444-333-2222   \n",
            "4    U005     Emma White   30        Seattle        2023-05-22  777-888-9999   \n",
            "\n",
            "               Email Favorite Meal  Total Orders  \n",
            "0    alice@email.com        Dinner            12  \n",
            "1      bob@email.com         Lunch             8  \n",
            "2  charlie@email.com     Breakfast            15  \n",
            "3    david@email.com        Dinner            10  \n",
            "4     emma@email.com         Lunch             9  \n"
          ]
        }
      ]
    },
    {
      "cell_type": "code",
      "source": [
        "print(cooking_sessions.head())"
      ],
      "metadata": {
        "colab": {
          "base_uri": "https://localhost:8080/"
        },
        "id": "l3TUu0cT2dVh",
        "outputId": "0d060403-f2e9-474f-9316-7a39b7b5368f"
      },
      "id": "l3TUu0cT2dVh",
      "execution_count": 47,
      "outputs": [
        {
          "output_type": "stream",
          "name": "stdout",
          "text": [
            "  Session ID User ID        Dish Name  Meal Type       Session Start  \\\n",
            "0       S001    U001        Spaghetti     Dinner 2024-12-01 19:00:00   \n",
            "1       S002    U002     Caesar Salad      Lunch 2024-12-01 12:00:00   \n",
            "2       S003    U003  Grilled Chicken     Dinner 2024-12-02 19:30:00   \n",
            "3       S004    U001         Pancakes  Breakfast 2024-12-02 07:30:00   \n",
            "4       S005    U004     Caesar Salad      Lunch 2024-12-03 13:00:00   \n",
            "\n",
            "          Session End  Duration (mins)  Session Rating  \n",
            "0 2024-12-01 19:30:00               30             4.5  \n",
            "1 2024-12-01 12:20:00               20             4.0  \n",
            "2 2024-12-02 20:10:00               40             4.8  \n",
            "3 2024-12-02 08:00:00               30             4.2  \n",
            "4 2024-12-03 13:15:00               15             4.7  \n"
          ]
        }
      ]
    },
    {
      "cell_type": "code",
      "source": [
        "print(order_details.head())"
      ],
      "metadata": {
        "colab": {
          "base_uri": "https://localhost:8080/"
        },
        "id": "c5j1H_h82dXo",
        "outputId": "da890c0d-7dbd-4a40-82e9-927b2af21b61"
      },
      "id": "c5j1H_h82dXo",
      "execution_count": 48,
      "outputs": [
        {
          "output_type": "stream",
          "name": "stdout",
          "text": [
            "   Order ID User ID Order Date  Meal Type        Dish Name Order Status  \\\n",
            "0      1001    U001 2024-12-01     Dinner        Spaghetti    Completed   \n",
            "1      1002    U002 2024-12-01      Lunch     Caesar Salad    Completed   \n",
            "2      1003    U003 2024-12-02     Dinner  Grilled Chicken     Canceled   \n",
            "3      1004    U001 2024-12-02  Breakfast         Pancakes    Completed   \n",
            "4      1005    U004 2024-12-03      Lunch     Caesar Salad    Completed   \n",
            "\n",
            "   Amount (USD) Time of Day  Rating Session ID  \n",
            "0          15.0       Night     5.0       S001  \n",
            "1          10.0         Day     4.0       S002  \n",
            "2          12.5       Night     NaN       S003  \n",
            "3           8.0     Morning     4.0       S004  \n",
            "4           9.0         Day     4.0       S005  \n"
          ]
        }
      ]
    },
    {
      "cell_type": "markdown",
      "source": [
        "### Data Cleaning"
      ],
      "metadata": {
        "id": "DRoBuU0n3EZt"
      },
      "id": "DRoBuU0n3EZt"
    },
    {
      "cell_type": "markdown",
      "source": [
        "Handling missing values by imputation or dropping, based on relevance. (No probable missing values in data)\n",
        "\n",
        "Standardizing date-time formats if necessary and ensure proper parsing."
      ],
      "metadata": {
        "id": "eYAJD0ou3IVl"
      },
      "id": "eYAJD0ou3IVl"
    },
    {
      "cell_type": "code",
      "source": [
        "# Ensure correct data types\n",
        "user_details['Registration Date'] = pd.to_datetime(user_details['Registration Date'])\n",
        "cooking_sessions['Session Start'] = pd.to_datetime(cooking_sessions['Session Start'])\n",
        "cooking_sessions['Session End'] = pd.to_datetime(cooking_sessions['Session End'])\n",
        "order_details['Order Date'] = pd.to_datetime(order_details['Order Date'])"
      ],
      "metadata": {
        "id": "nk8sawHJ3qGf"
      },
      "id": "nk8sawHJ3qGf",
      "execution_count": 49,
      "outputs": []
    },
    {
      "cell_type": "markdown",
      "source": [
        "### Data Merging"
      ],
      "metadata": {
        "id": "IO4-sFWP3mQh"
      },
      "id": "IO4-sFWP3mQh"
    },
    {
      "cell_type": "code",
      "source": [
        "# Merge user details with cooking sessions\n",
        "user_cooking = pd.merge(user_details, cooking_sessions, on=\"User ID\", how=\"left\")"
      ],
      "metadata": {
        "id": "-NHUdGps2dZ-"
      },
      "id": "-NHUdGps2dZ-",
      "execution_count": 50,
      "outputs": []
    },
    {
      "cell_type": "code",
      "source": [
        "# Merge the result with order details\n",
        "merged_data = pd.merge(user_cooking, order_details, on=[\"User ID\"], how=\"left\")"
      ],
      "metadata": {
        "id": "CHLKlOTr2dcX"
      },
      "id": "CHLKlOTr2dcX",
      "execution_count": 51,
      "outputs": []
    },
    {
      "cell_type": "code",
      "source": [
        "print(merged_data.head())"
      ],
      "metadata": {
        "colab": {
          "base_uri": "https://localhost:8080/"
        },
        "id": "F9dSZ7SN2dfr",
        "outputId": "6f4a413a-ec9f-4353-a72b-4e781b6e61f1"
      },
      "id": "F9dSZ7SN2dfr",
      "execution_count": 52,
      "outputs": [
        {
          "output_type": "stream",
          "name": "stdout",
          "text": [
            "  User ID      User Name  Age  Location Registration Date         Phone  \\\n",
            "0    U001  Alice Johnson   28  New York        2023-01-15  123-456-7890   \n",
            "1    U001  Alice Johnson   28  New York        2023-01-15  123-456-7890   \n",
            "2    U001  Alice Johnson   28  New York        2023-01-15  123-456-7890   \n",
            "3    U001  Alice Johnson   28  New York        2023-01-15  123-456-7890   \n",
            "4    U001  Alice Johnson   28  New York        2023-01-15  123-456-7890   \n",
            "\n",
            "             Email Favorite Meal  Total Orders Session ID_x  ...  \\\n",
            "0  alice@email.com        Dinner            12         S001  ...   \n",
            "1  alice@email.com        Dinner            12         S001  ...   \n",
            "2  alice@email.com        Dinner            12         S001  ...   \n",
            "3  alice@email.com        Dinner            12         S004  ...   \n",
            "4  alice@email.com        Dinner            12         S004  ...   \n",
            "\n",
            "  Session Rating Order ID Order Date Meal Type_y      Dish Name_y  \\\n",
            "0            4.5   1001.0 2024-12-01      Dinner        Spaghetti   \n",
            "1            4.5   1004.0 2024-12-02   Breakfast         Pancakes   \n",
            "2            4.5   1009.0 2024-12-05      Dinner  Grilled Chicken   \n",
            "3            4.2   1001.0 2024-12-01      Dinner        Spaghetti   \n",
            "4            4.2   1004.0 2024-12-02   Breakfast         Pancakes   \n",
            "\n",
            "   Order Status  Amount (USD) Time of Day Rating Session ID_y  \n",
            "0     Completed          15.0       Night    5.0         S001  \n",
            "1     Completed           8.0     Morning    4.0         S004  \n",
            "2     Completed          12.0       Night    5.0         S009  \n",
            "3     Completed          15.0       Night    5.0         S001  \n",
            "4     Completed           8.0     Morning    4.0         S004  \n",
            "\n",
            "[5 rows x 25 columns]\n"
          ]
        }
      ]
    },
    {
      "cell_type": "markdown",
      "source": [
        "### Analysis"
      ],
      "metadata": {
        "id": "ObOmExRm7NT3"
      },
      "id": "ObOmExRm7NT3"
    },
    {
      "cell_type": "code",
      "source": [
        "# Correlation between session ratings and order ratings\n",
        "correlation = merged_data[['Session Rating', 'Rating']].corr()\n",
        "correlation"
      ],
      "metadata": {
        "colab": {
          "base_uri": "https://localhost:8080/",
          "height": 125
        },
        "id": "-ykjaGl9CP2A",
        "outputId": "1c8dce16-3561-4f8c-954d-5625e6532ef8"
      },
      "id": "-ykjaGl9CP2A",
      "execution_count": 74,
      "outputs": [
        {
          "output_type": "execute_result",
          "data": {
            "text/plain": [
              "                Session Rating    Rating\n",
              "Session Rating        1.000000  0.326955\n",
              "Rating                0.326955  1.000000"
            ],
            "text/html": [
              "\n",
              "  <div id=\"df-1784edcd-a915-4c01-af62-1a38eaa3ac2c\" class=\"colab-df-container\">\n",
              "    <div>\n",
              "<style scoped>\n",
              "    .dataframe tbody tr th:only-of-type {\n",
              "        vertical-align: middle;\n",
              "    }\n",
              "\n",
              "    .dataframe tbody tr th {\n",
              "        vertical-align: top;\n",
              "    }\n",
              "\n",
              "    .dataframe thead th {\n",
              "        text-align: right;\n",
              "    }\n",
              "</style>\n",
              "<table border=\"1\" class=\"dataframe\">\n",
              "  <thead>\n",
              "    <tr style=\"text-align: right;\">\n",
              "      <th></th>\n",
              "      <th>Session Rating</th>\n",
              "      <th>Rating</th>\n",
              "    </tr>\n",
              "  </thead>\n",
              "  <tbody>\n",
              "    <tr>\n",
              "      <th>Session Rating</th>\n",
              "      <td>1.000000</td>\n",
              "      <td>0.326955</td>\n",
              "    </tr>\n",
              "    <tr>\n",
              "      <th>Rating</th>\n",
              "      <td>0.326955</td>\n",
              "      <td>1.000000</td>\n",
              "    </tr>\n",
              "  </tbody>\n",
              "</table>\n",
              "</div>\n",
              "    <div class=\"colab-df-buttons\">\n",
              "\n",
              "  <div class=\"colab-df-container\">\n",
              "    <button class=\"colab-df-convert\" onclick=\"convertToInteractive('df-1784edcd-a915-4c01-af62-1a38eaa3ac2c')\"\n",
              "            title=\"Convert this dataframe to an interactive table.\"\n",
              "            style=\"display:none;\">\n",
              "\n",
              "  <svg xmlns=\"http://www.w3.org/2000/svg\" height=\"24px\" viewBox=\"0 -960 960 960\">\n",
              "    <path d=\"M120-120v-720h720v720H120Zm60-500h600v-160H180v160Zm220 220h160v-160H400v160Zm0 220h160v-160H400v160ZM180-400h160v-160H180v160Zm440 0h160v-160H620v160ZM180-180h160v-160H180v160Zm440 0h160v-160H620v160Z\"/>\n",
              "  </svg>\n",
              "    </button>\n",
              "\n",
              "  <style>\n",
              "    .colab-df-container {\n",
              "      display:flex;\n",
              "      gap: 12px;\n",
              "    }\n",
              "\n",
              "    .colab-df-convert {\n",
              "      background-color: #E8F0FE;\n",
              "      border: none;\n",
              "      border-radius: 50%;\n",
              "      cursor: pointer;\n",
              "      display: none;\n",
              "      fill: #1967D2;\n",
              "      height: 32px;\n",
              "      padding: 0 0 0 0;\n",
              "      width: 32px;\n",
              "    }\n",
              "\n",
              "    .colab-df-convert:hover {\n",
              "      background-color: #E2EBFA;\n",
              "      box-shadow: 0px 1px 2px rgba(60, 64, 67, 0.3), 0px 1px 3px 1px rgba(60, 64, 67, 0.15);\n",
              "      fill: #174EA6;\n",
              "    }\n",
              "\n",
              "    .colab-df-buttons div {\n",
              "      margin-bottom: 4px;\n",
              "    }\n",
              "\n",
              "    [theme=dark] .colab-df-convert {\n",
              "      background-color: #3B4455;\n",
              "      fill: #D2E3FC;\n",
              "    }\n",
              "\n",
              "    [theme=dark] .colab-df-convert:hover {\n",
              "      background-color: #434B5C;\n",
              "      box-shadow: 0px 1px 3px 1px rgba(0, 0, 0, 0.15);\n",
              "      filter: drop-shadow(0px 1px 2px rgba(0, 0, 0, 0.3));\n",
              "      fill: #FFFFFF;\n",
              "    }\n",
              "  </style>\n",
              "\n",
              "    <script>\n",
              "      const buttonEl =\n",
              "        document.querySelector('#df-1784edcd-a915-4c01-af62-1a38eaa3ac2c button.colab-df-convert');\n",
              "      buttonEl.style.display =\n",
              "        google.colab.kernel.accessAllowed ? 'block' : 'none';\n",
              "\n",
              "      async function convertToInteractive(key) {\n",
              "        const element = document.querySelector('#df-1784edcd-a915-4c01-af62-1a38eaa3ac2c');\n",
              "        const dataTable =\n",
              "          await google.colab.kernel.invokeFunction('convertToInteractive',\n",
              "                                                    [key], {});\n",
              "        if (!dataTable) return;\n",
              "\n",
              "        const docLinkHtml = 'Like what you see? Visit the ' +\n",
              "          '<a target=\"_blank\" href=https://colab.research.google.com/notebooks/data_table.ipynb>data table notebook</a>'\n",
              "          + ' to learn more about interactive tables.';\n",
              "        element.innerHTML = '';\n",
              "        dataTable['output_type'] = 'display_data';\n",
              "        await google.colab.output.renderOutput(dataTable, element);\n",
              "        const docLink = document.createElement('div');\n",
              "        docLink.innerHTML = docLinkHtml;\n",
              "        element.appendChild(docLink);\n",
              "      }\n",
              "    </script>\n",
              "  </div>\n",
              "\n",
              "\n",
              "<div id=\"df-12a08212-762d-401b-b169-74efebb4d3ba\">\n",
              "  <button class=\"colab-df-quickchart\" onclick=\"quickchart('df-12a08212-762d-401b-b169-74efebb4d3ba')\"\n",
              "            title=\"Suggest charts\"\n",
              "            style=\"display:none;\">\n",
              "\n",
              "<svg xmlns=\"http://www.w3.org/2000/svg\" height=\"24px\"viewBox=\"0 0 24 24\"\n",
              "     width=\"24px\">\n",
              "    <g>\n",
              "        <path d=\"M19 3H5c-1.1 0-2 .9-2 2v14c0 1.1.9 2 2 2h14c1.1 0 2-.9 2-2V5c0-1.1-.9-2-2-2zM9 17H7v-7h2v7zm4 0h-2V7h2v10zm4 0h-2v-4h2v4z\"/>\n",
              "    </g>\n",
              "</svg>\n",
              "  </button>\n",
              "\n",
              "<style>\n",
              "  .colab-df-quickchart {\n",
              "      --bg-color: #E8F0FE;\n",
              "      --fill-color: #1967D2;\n",
              "      --hover-bg-color: #E2EBFA;\n",
              "      --hover-fill-color: #174EA6;\n",
              "      --disabled-fill-color: #AAA;\n",
              "      --disabled-bg-color: #DDD;\n",
              "  }\n",
              "\n",
              "  [theme=dark] .colab-df-quickchart {\n",
              "      --bg-color: #3B4455;\n",
              "      --fill-color: #D2E3FC;\n",
              "      --hover-bg-color: #434B5C;\n",
              "      --hover-fill-color: #FFFFFF;\n",
              "      --disabled-bg-color: #3B4455;\n",
              "      --disabled-fill-color: #666;\n",
              "  }\n",
              "\n",
              "  .colab-df-quickchart {\n",
              "    background-color: var(--bg-color);\n",
              "    border: none;\n",
              "    border-radius: 50%;\n",
              "    cursor: pointer;\n",
              "    display: none;\n",
              "    fill: var(--fill-color);\n",
              "    height: 32px;\n",
              "    padding: 0;\n",
              "    width: 32px;\n",
              "  }\n",
              "\n",
              "  .colab-df-quickchart:hover {\n",
              "    background-color: var(--hover-bg-color);\n",
              "    box-shadow: 0 1px 2px rgba(60, 64, 67, 0.3), 0 1px 3px 1px rgba(60, 64, 67, 0.15);\n",
              "    fill: var(--button-hover-fill-color);\n",
              "  }\n",
              "\n",
              "  .colab-df-quickchart-complete:disabled,\n",
              "  .colab-df-quickchart-complete:disabled:hover {\n",
              "    background-color: var(--disabled-bg-color);\n",
              "    fill: var(--disabled-fill-color);\n",
              "    box-shadow: none;\n",
              "  }\n",
              "\n",
              "  .colab-df-spinner {\n",
              "    border: 2px solid var(--fill-color);\n",
              "    border-color: transparent;\n",
              "    border-bottom-color: var(--fill-color);\n",
              "    animation:\n",
              "      spin 1s steps(1) infinite;\n",
              "  }\n",
              "\n",
              "  @keyframes spin {\n",
              "    0% {\n",
              "      border-color: transparent;\n",
              "      border-bottom-color: var(--fill-color);\n",
              "      border-left-color: var(--fill-color);\n",
              "    }\n",
              "    20% {\n",
              "      border-color: transparent;\n",
              "      border-left-color: var(--fill-color);\n",
              "      border-top-color: var(--fill-color);\n",
              "    }\n",
              "    30% {\n",
              "      border-color: transparent;\n",
              "      border-left-color: var(--fill-color);\n",
              "      border-top-color: var(--fill-color);\n",
              "      border-right-color: var(--fill-color);\n",
              "    }\n",
              "    40% {\n",
              "      border-color: transparent;\n",
              "      border-right-color: var(--fill-color);\n",
              "      border-top-color: var(--fill-color);\n",
              "    }\n",
              "    60% {\n",
              "      border-color: transparent;\n",
              "      border-right-color: var(--fill-color);\n",
              "    }\n",
              "    80% {\n",
              "      border-color: transparent;\n",
              "      border-right-color: var(--fill-color);\n",
              "      border-bottom-color: var(--fill-color);\n",
              "    }\n",
              "    90% {\n",
              "      border-color: transparent;\n",
              "      border-bottom-color: var(--fill-color);\n",
              "    }\n",
              "  }\n",
              "</style>\n",
              "\n",
              "  <script>\n",
              "    async function quickchart(key) {\n",
              "      const quickchartButtonEl =\n",
              "        document.querySelector('#' + key + ' button');\n",
              "      quickchartButtonEl.disabled = true;  // To prevent multiple clicks.\n",
              "      quickchartButtonEl.classList.add('colab-df-spinner');\n",
              "      try {\n",
              "        const charts = await google.colab.kernel.invokeFunction(\n",
              "            'suggestCharts', [key], {});\n",
              "      } catch (error) {\n",
              "        console.error('Error during call to suggestCharts:', error);\n",
              "      }\n",
              "      quickchartButtonEl.classList.remove('colab-df-spinner');\n",
              "      quickchartButtonEl.classList.add('colab-df-quickchart-complete');\n",
              "    }\n",
              "    (() => {\n",
              "      let quickchartButtonEl =\n",
              "        document.querySelector('#df-12a08212-762d-401b-b169-74efebb4d3ba button');\n",
              "      quickchartButtonEl.style.display =\n",
              "        google.colab.kernel.accessAllowed ? 'block' : 'none';\n",
              "    })();\n",
              "  </script>\n",
              "</div>\n",
              "\n",
              "  <div id=\"id_fd62908b-c004-4bb8-b64a-9797902b45c4\">\n",
              "    <style>\n",
              "      .colab-df-generate {\n",
              "        background-color: #E8F0FE;\n",
              "        border: none;\n",
              "        border-radius: 50%;\n",
              "        cursor: pointer;\n",
              "        display: none;\n",
              "        fill: #1967D2;\n",
              "        height: 32px;\n",
              "        padding: 0 0 0 0;\n",
              "        width: 32px;\n",
              "      }\n",
              "\n",
              "      .colab-df-generate:hover {\n",
              "        background-color: #E2EBFA;\n",
              "        box-shadow: 0px 1px 2px rgba(60, 64, 67, 0.3), 0px 1px 3px 1px rgba(60, 64, 67, 0.15);\n",
              "        fill: #174EA6;\n",
              "      }\n",
              "\n",
              "      [theme=dark] .colab-df-generate {\n",
              "        background-color: #3B4455;\n",
              "        fill: #D2E3FC;\n",
              "      }\n",
              "\n",
              "      [theme=dark] .colab-df-generate:hover {\n",
              "        background-color: #434B5C;\n",
              "        box-shadow: 0px 1px 3px 1px rgba(0, 0, 0, 0.15);\n",
              "        filter: drop-shadow(0px 1px 2px rgba(0, 0, 0, 0.3));\n",
              "        fill: #FFFFFF;\n",
              "      }\n",
              "    </style>\n",
              "    <button class=\"colab-df-generate\" onclick=\"generateWithVariable('correlation')\"\n",
              "            title=\"Generate code using this dataframe.\"\n",
              "            style=\"display:none;\">\n",
              "\n",
              "  <svg xmlns=\"http://www.w3.org/2000/svg\" height=\"24px\"viewBox=\"0 0 24 24\"\n",
              "       width=\"24px\">\n",
              "    <path d=\"M7,19H8.4L18.45,9,17,7.55,7,17.6ZM5,21V16.75L18.45,3.32a2,2,0,0,1,2.83,0l1.4,1.43a1.91,1.91,0,0,1,.58,1.4,1.91,1.91,0,0,1-.58,1.4L9.25,21ZM18.45,9,17,7.55Zm-12,3A5.31,5.31,0,0,0,4.9,8.1,5.31,5.31,0,0,0,1,6.5,5.31,5.31,0,0,0,4.9,4.9,5.31,5.31,0,0,0,6.5,1,5.31,5.31,0,0,0,8.1,4.9,5.31,5.31,0,0,0,12,6.5,5.46,5.46,0,0,0,6.5,12Z\"/>\n",
              "  </svg>\n",
              "    </button>\n",
              "    <script>\n",
              "      (() => {\n",
              "      const buttonEl =\n",
              "        document.querySelector('#id_fd62908b-c004-4bb8-b64a-9797902b45c4 button.colab-df-generate');\n",
              "      buttonEl.style.display =\n",
              "        google.colab.kernel.accessAllowed ? 'block' : 'none';\n",
              "\n",
              "      buttonEl.onclick = () => {\n",
              "        google.colab.notebook.generateWithVariable('correlation');\n",
              "      }\n",
              "      })();\n",
              "    </script>\n",
              "  </div>\n",
              "\n",
              "    </div>\n",
              "  </div>\n"
            ],
            "application/vnd.google.colaboratory.intrinsic+json": {
              "type": "dataframe",
              "variable_name": "correlation",
              "summary": "{\n  \"name\": \"correlation\",\n  \"rows\": 2,\n  \"fields\": [\n    {\n      \"column\": \"Session Rating\",\n      \"properties\": {\n        \"dtype\": \"number\",\n        \"std\": 0.4759146857700627,\n        \"min\": 0.3269549968514475,\n        \"max\": 1.0,\n        \"num_unique_values\": 2,\n        \"samples\": [\n          0.3269549968514475,\n          1.0\n        ],\n        \"semantic_type\": \"\",\n        \"description\": \"\"\n      }\n    },\n    {\n      \"column\": \"Rating\",\n      \"properties\": {\n        \"dtype\": \"number\",\n        \"std\": 0.4759146857700627,\n        \"min\": 0.3269549968514475,\n        \"max\": 1.0,\n        \"num_unique_values\": 2,\n        \"samples\": [\n          1.0,\n          0.3269549968514475\n        ],\n        \"semantic_type\": \"\",\n        \"description\": \"\"\n      }\n    }\n  ]\n}"
            }
          },
          "metadata": {},
          "execution_count": 74
        }
      ]
    },
    {
      "cell_type": "markdown",
      "source": [
        "#### Identifying Popular Dishes"
      ],
      "metadata": {
        "id": "svnMIVia7QsD"
      },
      "id": "svnMIVia7QsD"
    },
    {
      "cell_type": "code",
      "source": [
        "popular_dishes = merged_data.groupby('Dish Name_y').size().sort_values(ascending=False).head(10)\n",
        "popular_dishes"
      ],
      "metadata": {
        "colab": {
          "base_uri": "https://localhost:8080/",
          "height": 304
        },
        "id": "UWCwaWgM6_6V",
        "outputId": "5b328950-278e-40b8-8acb-ee864f6e8342"
      },
      "id": "UWCwaWgM6_6V",
      "execution_count": 64,
      "outputs": [
        {
          "output_type": "execute_result",
          "data": {
            "text/plain": [
              "Dish Name_y\n",
              "Grilled Chicken    9\n",
              "Spaghetti          9\n",
              "Caesar Salad       7\n",
              "Pancakes           6\n",
              "Veggie Burger      4\n",
              "Oatmeal            3\n",
              "dtype: int64"
            ],
            "text/html": [
              "<div>\n",
              "<style scoped>\n",
              "    .dataframe tbody tr th:only-of-type {\n",
              "        vertical-align: middle;\n",
              "    }\n",
              "\n",
              "    .dataframe tbody tr th {\n",
              "        vertical-align: top;\n",
              "    }\n",
              "\n",
              "    .dataframe thead th {\n",
              "        text-align: right;\n",
              "    }\n",
              "</style>\n",
              "<table border=\"1\" class=\"dataframe\">\n",
              "  <thead>\n",
              "    <tr style=\"text-align: right;\">\n",
              "      <th></th>\n",
              "      <th>0</th>\n",
              "    </tr>\n",
              "    <tr>\n",
              "      <th>Dish Name_y</th>\n",
              "      <th></th>\n",
              "    </tr>\n",
              "  </thead>\n",
              "  <tbody>\n",
              "    <tr>\n",
              "      <th>Grilled Chicken</th>\n",
              "      <td>9</td>\n",
              "    </tr>\n",
              "    <tr>\n",
              "      <th>Spaghetti</th>\n",
              "      <td>9</td>\n",
              "    </tr>\n",
              "    <tr>\n",
              "      <th>Caesar Salad</th>\n",
              "      <td>7</td>\n",
              "    </tr>\n",
              "    <tr>\n",
              "      <th>Pancakes</th>\n",
              "      <td>6</td>\n",
              "    </tr>\n",
              "    <tr>\n",
              "      <th>Veggie Burger</th>\n",
              "      <td>4</td>\n",
              "    </tr>\n",
              "    <tr>\n",
              "      <th>Oatmeal</th>\n",
              "      <td>3</td>\n",
              "    </tr>\n",
              "  </tbody>\n",
              "</table>\n",
              "</div><br><label><b>dtype:</b> int64</label>"
            ]
          },
          "metadata": {},
          "execution_count": 64
        }
      ]
    },
    {
      "cell_type": "code",
      "source": [
        "popular_dishes.plot(kind='bar', figsize=(10, 6), title='Top 10 Dishes by Frequency')\n",
        "plt.xlabel('Dish Name')\n",
        "plt.ylabel('Frequency')\n",
        "plt.show()"
      ],
      "metadata": {
        "colab": {
          "base_uri": "https://localhost:8080/",
          "height": 655
        },
        "id": "2U7Thsp28ISY",
        "outputId": "345b71fe-a19e-4d4e-d111-68b22d2faaf8"
      },
      "id": "2U7Thsp28ISY",
      "execution_count": 54,
      "outputs": [
        {
          "output_type": "display_data",
          "data": {
            "text/plain": [
              "<Figure size 1000x600 with 1 Axes>"
            ],
            "image/png": "[encoded data removed]"
          },
          "metadata": {}
        }
      ]
    },
    {
      "cell_type": "code",
      "source": [
        "# Popular dishes by demographics\n",
        "demographic_dishes = merged_data.groupby(['Age', 'Dish Name_y']).size().unstack().fillna(0)"
      ],
      "metadata": {
        "id": "NSS_qV-4BIfK"
      },
      "id": "NSS_qV-4BIfK",
      "execution_count": 62,
      "outputs": []
    },
    {
      "cell_type": "code",
      "source": [
        "demographic_dishes"
      ],
      "metadata": {
        "colab": {
          "base_uri": "https://localhost:8080/",
          "height": 332
        },
        "id": "ZNZa4p1UBNw4",
        "outputId": "def98258-ed79-44cd-a4e9-baa39fa6fad7"
      },
      "id": "ZNZa4p1UBNw4",
      "execution_count": 63,
      "outputs": [
        {
          "output_type": "execute_result",
          "data": {
            "text/plain": [
              "Dish Name_y  Caesar Salad  Grilled Chicken  Oatmeal  Pancakes  Spaghetti  \\\n",
              "Age                                                                        \n",
              "25                    0.0              1.0      0.0       0.0        0.0   \n",
              "27                    2.0              0.0      0.0       0.0        2.0   \n",
              "28                    0.0              3.0      0.0       3.0        3.0   \n",
              "30                    2.0              2.0      0.0       0.0        0.0   \n",
              "31                    0.0              0.0      0.0       0.0        0.0   \n",
              "35                    3.0              0.0      3.0       0.0        3.0   \n",
              "38                    0.0              0.0      0.0       0.0        1.0   \n",
              "42                    0.0              3.0      0.0       3.0        0.0   \n",
              "\n",
              "Dish Name_y  Veggie Burger  \n",
              "Age                         \n",
              "25                     0.0  \n",
              "27                     0.0  \n",
              "28                     0.0  \n",
              "30                     0.0  \n",
              "31                     1.0  \n",
              "35                     0.0  \n",
              "38                     0.0  \n",
              "42                     3.0  "
            ],
            "text/html": [
              "\n",
              "  <div id=\"df-a3a92bbb-5f23-4195-8a23-f9081eb41712\" class=\"colab-df-container\">\n",
              "    <div>\n",
              "<style scoped>\n",
              "    .dataframe tbody tr th:only-of-type {\n",
              "        vertical-align: middle;\n",
              "    }\n",
              "\n",
              "    .dataframe tbody tr th {\n",
              "        vertical-align: top;\n",
              "    }\n",
              "\n",
              "    .dataframe thead th {\n",
              "        text-align: right;\n",
              "    }\n",
              "</style>\n",
              "<table border=\"1\" class=\"dataframe\">\n",
              "  <thead>\n",
              "    <tr style=\"text-align: right;\">\n",
              "      <th>Dish Name_y</th>\n",
              "      <th>Caesar Salad</th>\n",
              "      <th>Grilled Chicken</th>\n",
              "      <th>Oatmeal</th>\n",
              "      <th>Pancakes</th>\n",
              "      <th>Spaghetti</th>\n",
              "      <th>Veggie Burger</th>\n",
              "    </tr>\n",
              "    <tr>\n",
              "      <th>Age</th>\n",
              "      <th></th>\n",
              "      <th></th>\n",
              "      <th></th>\n",
              "      <th></th>\n",
              "      <th></th>\n",
              "      <th></th>\n",
              "    </tr>\n",
              "  </thead>\n",
              "  <tbody>\n",
              "    <tr>\n",
              "      <th>25</th>\n",
              "      <td>0.0</td>\n",
              "      <td>1.0</td>\n",
              "      <td>0.0</td>\n",
              "      <td>0.0</td>\n",
              "      <td>0.0</td>\n",
              "      <td>0.0</td>\n",
              "    </tr>\n",
              "    <tr>\n",
              "      <th>27</th>\n",
              "      <td>2.0</td>\n",
              "      <td>0.0</td>\n",
              "      <td>0.0</td>\n",
              "      <td>0.0</td>\n",
              "      <td>2.0</td>\n",
              "      <td>0.0</td>\n",
              "    </tr>\n",
              "    <tr>\n",
              "      <th>28</th>\n",
              "      <td>0.0</td>\n",
              "      <td>3.0</td>\n",
              "      <td>0.0</td>\n",
              "      <td>3.0</td>\n",
              "      <td>3.0</td>\n",
              "      <td>0.0</td>\n",
              "    </tr>\n",
              "    <tr>\n",
              "      <th>30</th>\n",
              "      <td>2.0</td>\n",
              "      <td>2.0</td>\n",
              "      <td>0.0</td>\n",
              "      <td>0.0</td>\n",
              "      <td>0.0</td>\n",
              "      <td>0.0</td>\n",
              "    </tr>\n",
              "    <tr>\n",
              "      <th>31</th>\n",
              "      <td>0.0</td>\n",
              "      <td>0.0</td>\n",
              "      <td>0.0</td>\n",
              "      <td>0.0</td>\n",
              "      <td>0.0</td>\n",
              "      <td>1.0</td>\n",
              "    </tr>\n",
              "    <tr>\n",
              "      <th>35</th>\n",
              "      <td>3.0</td>\n",
              "      <td>0.0</td>\n",
              "      <td>3.0</td>\n",
              "      <td>0.0</td>\n",
              "      <td>3.0</td>\n",
              "      <td>0.0</td>\n",
              "    </tr>\n",
              "    <tr>\n",
              "      <th>38</th>\n",
              "      <td>0.0</td>\n",
              "      <td>0.0</td>\n",
              "      <td>0.0</td>\n",
              "      <td>0.0</td>\n",
              "      <td>1.0</td>\n",
              "      <td>0.0</td>\n",
              "    </tr>\n",
              "    <tr>\n",
              "      <th>42</th>\n",
              "      <td>0.0</td>\n",
              "      <td>3.0</td>\n",
              "      <td>0.0</td>\n",
              "      <td>3.0</td>\n",
              "      <td>0.0</td>\n",
              "      <td>3.0</td>\n",
              "    </tr>\n",
              "  </tbody>\n",
              "</table>\n",
              "</div>\n",
              "    <div class=\"colab-df-buttons\">\n",
              "\n",
              "  <div class=\"colab-df-container\">\n",
              "    <button class=\"colab-df-convert\" onclick=\"convertToInteractive('df-a3a92bbb-5f23-4195-8a23-f9081eb41712')\"\n",
              "            title=\"Convert this dataframe to an interactive table.\"\n",
              "            style=\"display:none;\">\n",
              "\n",
              "  <svg xmlns=\"http://www.w3.org/2000/svg\" height=\"24px\" viewBox=\"0 -960 960 960\">\n",
              "    <path d=\"M120-120v-720h720v720H120Zm60-500h600v-160H180v160Zm220 220h160v-160H400v160Zm0 220h160v-160H400v160ZM180-400h160v-160H180v160Zm440 0h160v-160H620v160ZM180-180h160v-160H180v160Zm440 0h160v-160H620v160Z\"/>\n",
              "  </svg>\n",
              "    </button>\n",
              "\n",
              "  <style>\n",
              "    .colab-df-container {\n",
              "      display:flex;\n",
              "      gap: 12px;\n",
              "    }\n",
              "\n",
              "    .colab-df-convert {\n",
              "      background-color: #E8F0FE;\n",
              "      border: none;\n",
              "      border-radius: 50%;\n",
              "      cursor: pointer;\n",
              "      display: none;\n",
              "      fill: #1967D2;\n",
              "      height: 32px;\n",
              "      padding: 0 0 0 0;\n",
              "      width: 32px;\n",
              "    }\n",
              "\n",
              "    .colab-df-convert:hover {\n",
              "      background-color: #E2EBFA;\n",
              "      box-shadow: 0px 1px 2px rgba(60, 64, 67, 0.3), 0px 1px 3px 1px rgba(60, 64, 67, 0.15);\n",
              "      fill: #174EA6;\n",
              "    }\n",
              "\n",
              "    .colab-df-buttons div {\n",
              "      margin-bottom: 4px;\n",
              "    }\n",
              "\n",
              "    [theme=dark] .colab-df-convert {\n",
              "      background-color: #3B4455;\n",
              "      fill: #D2E3FC;\n",
              "    }\n",
              "\n",
              "    [theme=dark] .colab-df-convert:hover {\n",
              "      background-color: #434B5C;\n",
              "      box-shadow: 0px 1px 3px 1px rgba(0, 0, 0, 0.15);\n",
              "      filter: drop-shadow(0px 1px 2px rgba(0, 0, 0, 0.3));\n",
              "      fill: #FFFFFF;\n",
              "    }\n",
              "  </style>\n",
              "\n",
              "    <script>\n",
              "      const buttonEl =\n",
              "        document.querySelector('#df-a3a92bbb-5f23-4195-8a23-f9081eb41712 button.colab-df-convert');\n",
              "      buttonEl.style.display =\n",
              "        google.colab.kernel.accessAllowed ? 'block' : 'none';\n",
              "\n",
              "      async function convertToInteractive(key) {\n",
              "        const element = document.querySelector('#df-a3a92bbb-5f23-4195-8a23-f9081eb41712');\n",
              "        const dataTable =\n",
              "          await google.colab.kernel.invokeFunction('convertToInteractive',\n",
              "                                                    [key], {});\n",
              "        if (!dataTable) return;\n",
              "\n",
              "        const docLinkHtml = 'Like what you see? Visit the ' +\n",
              "          '<a target=\"_blank\" href=https://colab.research.google.com/notebooks/data_table.ipynb>data table notebook</a>'\n",
              "          + ' to learn more about interactive tables.';\n",
              "        element.innerHTML = '';\n",
              "        dataTable['output_type'] = 'display_data';\n",
              "        await google.colab.output.renderOutput(dataTable, element);\n",
              "        const docLink = document.createElement('div');\n",
              "        docLink.innerHTML = docLinkHtml;\n",
              "        element.appendChild(docLink);\n",
              "      }\n",
              "    </script>\n",
              "  </div>\n",
              "\n",
              "\n",
              "<div id=\"df-a2f60dcc-429c-42e8-9011-6533b6bb43e3\">\n",
              "  <button class=\"colab-df-quickchart\" onclick=\"quickchart('df-a2f60dcc-429c-42e8-9011-6533b6bb43e3')\"\n",
              "            title=\"Suggest charts\"\n",
              "            style=\"display:none;\">\n",
              "\n",
              "<svg xmlns=\"http://www.w3.org/2000/svg\" height=\"24px\"viewBox=\"0 0 24 24\"\n",
              "     width=\"24px\">\n",
              "    <g>\n",
              "        <path d=\"M19 3H5c-1.1 0-2 .9-2 2v14c0 1.1.9 2 2 2h14c1.1 0 2-.9 2-2V5c0-1.1-.9-2-2-2zM9 17H7v-7h2v7zm4 0h-2V7h2v10zm4 0h-2v-4h2v4z\"/>\n",
              "    </g>\n",
              "</svg>\n",
              "  </button>\n",
              "\n",
              "<style>\n",
              "  .colab-df-quickchart {\n",
              "      --bg-color: #E8F0FE;\n",
              "      --fill-color: #1967D2;\n",
              "      --hover-bg-color: #E2EBFA;\n",
              "      --hover-fill-color: #174EA6;\n",
              "      --disabled-fill-color: #AAA;\n",
              "      --disabled-bg-color: #DDD;\n",
              "  }\n",
              "\n",
              "  [theme=dark] .colab-df-quickchart {\n",
              "      --bg-color: #3B4455;\n",
              "      --fill-color: #D2E3FC;\n",
              "      --hover-bg-color: #434B5C;\n",
              "      --hover-fill-color: #FFFFFF;\n",
              "      --disabled-bg-color: #3B4455;\n",
              "      --disabled-fill-color: #666;\n",
              "  }\n",
              "\n",
              "  .colab-df-quickchart {\n",
              "    background-color: var(--bg-color);\n",
              "    border: none;\n",
              "    border-radius: 50%;\n",
              "    cursor: pointer;\n",
              "    display: none;\n",
              "    fill: var(--fill-color);\n",
              "    height: 32px;\n",
              "    padding: 0;\n",
              "    width: 32px;\n",
              "  }\n",
              "\n",
              "  .colab-df-quickchart:hover {\n",
              "    background-color: var(--hover-bg-color);\n",
              "    box-shadow: 0 1px 2px rgba(60, 64, 67, 0.3), 0 1px 3px 1px rgba(60, 64, 67, 0.15);\n",
              "    fill: var(--button-hover-fill-color);\n",
              "  }\n",
              "\n",
              "  .colab-df-quickchart-complete:disabled,\n",
              "  .colab-df-quickchart-complete:disabled:hover {\n",
              "    background-color: var(--disabled-bg-color);\n",
              "    fill: var(--disabled-fill-color);\n",
              "    box-shadow: none;\n",
              "  }\n",
              "\n",
              "  .colab-df-spinner {\n",
              "    border: 2px solid var(--fill-color);\n",
              "    border-color: transparent;\n",
              "    border-bottom-color: var(--fill-color);\n",
              "    animation:\n",
              "      spin 1s steps(1) infinite;\n",
              "  }\n",
              "\n",
              "  @keyframes spin {\n",
              "    0% {\n",
              "      border-color: transparent;\n",
              "      border-bottom-color: var(--fill-color);\n",
              "      border-left-color: var(--fill-color);\n",
              "    }\n",
              "    20% {\n",
              "      border-color: transparent;\n",
              "      border-left-color: var(--fill-color);\n",
              "      border-top-color: var(--fill-color);\n",
              "    }\n",
              "    30% {\n",
              "      border-color: transparent;\n",
              "      border-left-color: var(--fill-color);\n",
              "      border-top-color: var(--fill-color);\n",
              "      border-right-color: var(--fill-color);\n",
              "    }\n",
              "    40% {\n",
              "      border-color: transparent;\n",
              "      border-right-color: var(--fill-color);\n",
              "      border-top-color: var(--fill-color);\n",
              "    }\n",
              "    60% {\n",
              "      border-color: transparent;\n",
              "      border-right-color: var(--fill-color);\n",
              "    }\n",
              "    80% {\n",
              "      border-color: transparent;\n",
              "      border-right-color: var(--fill-color);\n",
              "      border-bottom-color: var(--fill-color);\n",
              "    }\n",
              "    90% {\n",
              "      border-color: transparent;\n",
              "      border-bottom-color: var(--fill-color);\n",
              "    }\n",
              "  }\n",
              "</style>\n",
              "\n",
              "  <script>\n",
              "    async function quickchart(key) {\n",
              "      const quickchartButtonEl =\n",
              "        document.querySelector('#' + key + ' button');\n",
              "      quickchartButtonEl.disabled = true;  // To prevent multiple clicks.\n",
              "      quickchartButtonEl.classList.add('colab-df-spinner');\n",
              "      try {\n",
              "        const charts = await google.colab.kernel.invokeFunction(\n",
              "            'suggestCharts', [key], {});\n",
              "      } catch (error) {\n",
              "        console.error('Error during call to suggestCharts:', error);\n",
              "      }\n",
              "      quickchartButtonEl.classList.remove('colab-df-spinner');\n",
              "      quickchartButtonEl.classList.add('colab-df-quickchart-complete');\n",
              "    }\n",
              "    (() => {\n",
              "      let quickchartButtonEl =\n",
              "        document.querySelector('#df-a2f60dcc-429c-42e8-9011-6533b6bb43e3 button');\n",
              "      quickchartButtonEl.style.display =\n",
              "        google.colab.kernel.accessAllowed ? 'block' : 'none';\n",
              "    })();\n",
              "  </script>\n",
              "</div>\n",
              "\n",
              "  <div id=\"id_2bfff723-e183-4a6c-96b5-b43eeea27f88\">\n",
              "    <style>\n",
              "      .colab-df-generate {\n",
              "        background-color: #E8F0FE;\n",
              "        border: none;\n",
              "        border-radius: 50%;\n",
              "        cursor: pointer;\n",
              "        display: none;\n",
              "        fill: #1967D2;\n",
              "        height: 32px;\n",
              "        padding: 0 0 0 0;\n",
              "        width: 32px;\n",
              "      }\n",
              "\n",
              "      .colab-df-generate:hover {\n",
              "        background-color: #E2EBFA;\n",
              "        box-shadow: 0px 1px 2px rgba(60, 64, 67, 0.3), 0px 1px 3px 1px rgba(60, 64, 67, 0.15);\n",
              "        fill: #174EA6;\n",
              "      }\n",
              "\n",
              "      [theme=dark] .colab-df-generate {\n",
              "        background-color: #3B4455;\n",
              "        fill: #D2E3FC;\n",
              "      }\n",
              "\n",
              "      [theme=dark] .colab-df-generate:hover {\n",
              "        background-color: #434B5C;\n",
              "        box-shadow: 0px 1px 3px 1px rgba(0, 0, 0, 0.15);\n",
              "        filter: drop-shadow(0px 1px 2px rgba(0, 0, 0, 0.3));\n",
              "        fill: #FFFFFF;\n",
              "      }\n",
              "    </style>\n",
              "    <button class=\"colab-df-generate\" onclick=\"generateWithVariable('demographic_dishes')\"\n",
              "            title=\"Generate code using this dataframe.\"\n",
              "            style=\"display:none;\">\n",
              "\n",
              "  <svg xmlns=\"http://www.w3.org/2000/svg\" height=\"24px\"viewBox=\"0 0 24 24\"\n",
              "       width=\"24px\">\n",
              "    <path d=\"M7,19H8.4L18.45,9,17,7.55,7,17.6ZM5,21V16.75L18.45,3.32a2,2,0,0,1,2.83,0l1.4,1.43a1.91,1.91,0,0,1,.58,1.4,1.91,1.91,0,0,1-.58,1.4L9.25,21ZM18.45,9,17,7.55Zm-12,3A5.31,5.31,0,0,0,4.9,8.1,5.31,5.31,0,0,0,1,6.5,5.31,5.31,0,0,0,4.9,4.9,5.31,5.31,0,0,0,6.5,1,5.31,5.31,0,0,0,8.1,4.9,5.31,5.31,0,0,0,12,6.5,5.46,5.46,0,0,0,6.5,12Z\"/>\n",
              "  </svg>\n",
              "    </button>\n",
              "    <script>\n",
              "      (() => {\n",
              "      const buttonEl =\n",
              "        document.querySelector('#id_2bfff723-e183-4a6c-96b5-b43eeea27f88 button.colab-df-generate');\n",
              "      buttonEl.style.display =\n",
              "        google.colab.kernel.accessAllowed ? 'block' : 'none';\n",
              "\n",
              "      buttonEl.onclick = () => {\n",
              "        google.colab.notebook.generateWithVariable('demographic_dishes');\n",
              "      }\n",
              "      })();\n",
              "    </script>\n",
              "  </div>\n",
              "\n",
              "    </div>\n",
              "  </div>\n"
            ],
            "application/vnd.google.colaboratory.intrinsic+json": {
              "type": "dataframe",
              "variable_name": "demographic_dishes",
              "summary": "{\n  \"name\": \"demographic_dishes\",\n  \"rows\": 8,\n  \"fields\": [\n    {\n      \"column\": \"Age\",\n      \"properties\": {\n        \"dtype\": \"number\",\n        \"std\": 5,\n        \"min\": 25,\n        \"max\": 42,\n        \"num_unique_values\": 8,\n        \"samples\": [\n          27,\n          35,\n          25\n        ],\n        \"semantic_type\": \"\",\n        \"description\": \"\"\n      }\n    },\n    {\n      \"column\": \"Caesar Salad\",\n      \"properties\": {\n        \"dtype\": \"number\",\n        \"std\": 1.246423454758225,\n        \"min\": 0.0,\n        \"max\": 3.0,\n        \"num_unique_values\": 3,\n        \"samples\": [\n          0.0,\n          2.0,\n          3.0\n        ],\n        \"semantic_type\": \"\",\n        \"description\": \"\"\n      }\n    },\n    {\n      \"column\": \"Grilled Chicken\",\n      \"properties\": {\n        \"dtype\": \"number\",\n        \"std\": 1.3562026818605375,\n        \"min\": 0.0,\n        \"max\": 3.0,\n        \"num_unique_values\": 4,\n        \"samples\": [\n          0.0,\n          2.0,\n          1.0\n        ],\n        \"semantic_type\": \"\",\n        \"description\": \"\"\n      }\n    },\n    {\n      \"column\": \"Oatmeal\",\n      \"properties\": {\n        \"dtype\": \"number\",\n        \"std\": 1.0606601717798212,\n        \"min\": 0.0,\n        \"max\": 3.0,\n        \"num_unique_values\": 2,\n        \"samples\": [\n          3.0,\n          0.0\n        ],\n        \"semantic_type\": \"\",\n        \"description\": \"\"\n      }\n    },\n    {\n      \"column\": \"Pancakes\",\n      \"properties\": {\n        \"dtype\": \"number\",\n        \"std\": 1.3887301496588271,\n        \"min\": 0.0,\n        \"max\": 3.0,\n        \"num_unique_values\": 2,\n        \"samples\": [\n          3.0,\n          0.0\n        ],\n        \"semantic_type\": \"\",\n        \"description\": \"\"\n      }\n    },\n    {\n      \"column\": \"Spaghetti\",\n      \"properties\": {\n        \"dtype\": \"number\",\n        \"std\": 1.3562026818605375,\n        \"min\": 0.0,\n        \"max\": 3.0,\n        \"num_unique_values\": 4,\n        \"samples\": [\n          2.0,\n          1.0\n        ],\n        \"semantic_type\": \"\",\n        \"description\": \"\"\n      }\n    },\n    {\n      \"column\": \"Veggie Burger\",\n      \"properties\": {\n        \"dtype\": \"number\",\n        \"std\": 1.0690449676496976,\n        \"min\": 0.0,\n        \"max\": 3.0,\n        \"num_unique_values\": 3,\n        \"samples\": [\n          0.0,\n          1.0\n        ],\n        \"semantic_type\": \"\",\n        \"description\": \"\"\n      }\n    }\n  ]\n}"
            }
          },
          "metadata": {},
          "execution_count": 63
        }
      ]
    },
    {
      "cell_type": "code",
      "source": [
        "# Average order amount by location\n",
        "avg_order_by_location = merged_data.groupby('Location')['Amount (USD)'].mean()"
      ],
      "metadata": {
        "id": "1XrTaPvVBhzt"
      },
      "id": "1XrTaPvVBhzt",
      "execution_count": 66,
      "outputs": []
    },
    {
      "cell_type": "code",
      "source": [
        "avg_order_by_location"
      ],
      "metadata": {
        "colab": {
          "base_uri": "https://localhost:8080/",
          "height": 429
        },
        "id": "ZTfy_EE1BjaW",
        "outputId": "aabffbc8-9e05-4706-bfa2-a903b7bc6fb9"
      },
      "id": "ZTfy_EE1BjaW",
      "execution_count": 68,
      "outputs": [
        {
          "output_type": "execute_result",
          "data": {
            "text/plain": [
              "Location\n",
              "Austin           13.000000\n",
              "Boston           14.000000\n",
              "Chicago          10.666667\n",
              "Dallas                 NaN\n",
              "Los Angeles      10.333333\n",
              "Miami            11.000000\n",
              "New York         11.666667\n",
              "Phoenix                NaN\n",
              "San Francisco    10.750000\n",
              "Seattle          11.250000\n",
              "Name: Amount (USD), dtype: float64"
            ],
            "text/html": [
              "<div>\n",
              "<style scoped>\n",
              "    .dataframe tbody tr th:only-of-type {\n",
              "        vertical-align: middle;\n",
              "    }\n",
              "\n",
              "    .dataframe tbody tr th {\n",
              "        vertical-align: top;\n",
              "    }\n",
              "\n",
              "    .dataframe thead th {\n",
              "        text-align: right;\n",
              "    }\n",
              "</style>\n",
              "<table border=\"1\" class=\"dataframe\">\n",
              "  <thead>\n",
              "    <tr style=\"text-align: right;\">\n",
              "      <th></th>\n",
              "      <th>Amount (USD)</th>\n",
              "    </tr>\n",
              "    <tr>\n",
              "      <th>Location</th>\n",
              "      <th></th>\n",
              "    </tr>\n",
              "  </thead>\n",
              "  <tbody>\n",
              "    <tr>\n",
              "      <th>Austin</th>\n",
              "      <td>13.000000</td>\n",
              "    </tr>\n",
              "    <tr>\n",
              "      <th>Boston</th>\n",
              "      <td>14.000000</td>\n",
              "    </tr>\n",
              "    <tr>\n",
              "      <th>Chicago</th>\n",
              "      <td>10.666667</td>\n",
              "    </tr>\n",
              "    <tr>\n",
              "      <th>Dallas</th>\n",
              "      <td>NaN</td>\n",
              "    </tr>\n",
              "    <tr>\n",
              "      <th>Los Angeles</th>\n",
              "      <td>10.333333</td>\n",
              "    </tr>\n",
              "    <tr>\n",
              "      <th>Miami</th>\n",
              "      <td>11.000000</td>\n",
              "    </tr>\n",
              "    <tr>\n",
              "      <th>New York</th>\n",
              "      <td>11.666667</td>\n",
              "    </tr>\n",
              "    <tr>\n",
              "      <th>Phoenix</th>\n",
              "      <td>NaN</td>\n",
              "    </tr>\n",
              "    <tr>\n",
              "      <th>San Francisco</th>\n",
              "      <td>10.750000</td>\n",
              "    </tr>\n",
              "    <tr>\n",
              "      <th>Seattle</th>\n",
              "      <td>11.250000</td>\n",
              "    </tr>\n",
              "  </tbody>\n",
              "</table>\n",
              "</div><br><label><b>dtype:</b> float64</label>"
            ]
          },
          "metadata": {},
          "execution_count": 68
        }
      ]
    },
    {
      "cell_type": "markdown",
      "source": [
        "Order Timing Analysis\n",
        "\n",
        "Analyzing when users are most likely to place orders."
      ],
      "metadata": {
        "id": "_N7A8DOw9aWz"
      },
      "id": "_N7A8DOw9aWz"
    },
    {
      "cell_type": "code",
      "source": [
        "# Analyze orders by time of day\n",
        "order_timing = merged_data.groupby('Time of Day').size().sort_values(ascending=False)\n",
        "\n",
        "# Visualization\n",
        "plt.figure(figsize=(10, 6))\n",
        "order_timing.plot(kind='bar', title='Orders by Time of Day')\n",
        "plt.xlabel('Time of Day')\n",
        "plt.ylabel('Number of Orders')\n",
        "plt.show()"
      ],
      "metadata": {
        "colab": {
          "base_uri": "https://localhost:8080/",
          "height": 606
        },
        "id": "9LiZbIJF7bEL",
        "outputId": "e49343f6-0051-404d-b121-bb0f3ae4ceea"
      },
      "id": "9LiZbIJF7bEL",
      "execution_count": 55,
      "outputs": [
        {
          "output_type": "display_data",
          "data": {
            "text/plain": [
              "<Figure size 1000x600 with 1 Axes>"
            ],
            "image/png": "[encoded data removed]"
          },
          "metadata": {}
        }
      ]
    },
    {
      "cell_type": "markdown",
      "source": [
        "Session Duration Impact\n",
        "\n",
        "Examine how session duration influences session ratings and order likelihood."
      ],
      "metadata": {
        "id": "eOONFhaI9h1V"
      },
      "id": "eOONFhaI9h1V"
    },
    {
      "cell_type": "code",
      "source": [
        "# Average rating and order likelihood by session duration range\n",
        "merged_data['Duration Range'] = pd.cut(merged_data['Duration (mins)'], bins=[0, 30, 60, 90, 120, 300], labels=['0-30', '31-60', '61-90', '91-120', '>120'])\n",
        "duration_analysis = merged_data.groupby('Duration Range').agg({'Session Rating': 'mean', 'Order ID': 'count'})\n",
        "print(duration_analysis)\n",
        "\n",
        "# Visualization\n",
        "duration_analysis[['Session Rating']].plot(kind='bar', title='Session Rating by Duration Range', figsize=(10, 6))\n",
        "plt.ylabel('Average Session Rating')\n",
        "plt.show()"
      ],
      "metadata": {
        "colab": {
          "base_uri": "https://localhost:8080/",
          "height": 720
        },
        "id": "U_Q0VVhq8V7N",
        "outputId": "d66b384c-c4a8-48ee-95aa-7dfed23e4b15"
      },
      "id": "U_Q0VVhq8V7N",
      "execution_count": 56,
      "outputs": [
        {
          "output_type": "stream",
          "name": "stdout",
          "text": [
            "                Session Rating  Order ID\n",
            "Duration Range                          \n",
            "0-30                  4.338462        26\n",
            "31-60                 4.791667        12\n",
            "61-90                      NaN         0\n",
            "91-120                     NaN         0\n",
            ">120                       NaN         0\n"
          ]
        },
        {
          "output_type": "display_data",
          "data": {
            "text/plain": [
              "<Figure size 1000x600 with 1 Axes>"
            ],
            "image/png": "[encoded data removed]"
          },
          "metadata": {}
        }
      ]
    },
    {
      "cell_type": "markdown",
      "source": [
        "Order Status Analysis\n",
        "\n",
        "Investigate the frequency of different order statuses."
      ],
      "metadata": {
        "id": "lnauyP-39qwY"
      },
      "id": "lnauyP-39qwY"
    },
    {
      "cell_type": "code",
      "source": [
        "# Order status distribution\n",
        "order_status = merged_data['Order Status'].value_counts()\n",
        "\n",
        "# Visualization\n",
        "order_status.plot(kind='pie', autopct='%1.1f%%', figsize=(8, 8), title='Order Status Distribution')\n",
        "plt.ylabel('')\n",
        "plt.show()"
      ],
      "metadata": {
        "colab": {
          "base_uri": "https://localhost:8080/",
          "height": 675
        },
        "id": "Wetqo97W9BZz",
        "outputId": "6b75f0cf-e696-44da-fcfe-fd465acbfd5f"
      },
      "id": "Wetqo97W9BZz",
      "execution_count": 57,
      "outputs": [
        {
          "output_type": "display_data",
          "data": {
            "text/plain": [
              "<Figure size 800x800 with 1 Axes>"
            ],
            "image/png": "[encoded data removed]"
          },
          "metadata": {}
        }
      ]
    },
    {
      "cell_type": "markdown",
      "source": [
        "Repeat Orders\n",
        "\n",
        "Determine the percentage of repeat orders by users."
      ],
      "metadata": {
        "id": "h_7axWBL93rQ"
      },
      "id": "h_7axWBL93rQ"
    },
    {
      "cell_type": "code",
      "source": [
        "# Repeat orders\n",
        "repeat_orders = merged_data.groupby('User ID')['Order ID'].nunique().value_counts(normalize=True)\n",
        "print(\"Repeat Order Rates:\\n\", repeat_orders)\n",
        "\n",
        "# Visualization\n",
        "repeat_orders.plot(kind='bar', figsize=(8, 6), title='Repeat Order Rates')\n",
        "plt.xlabel('Number of Orders')\n",
        "plt.ylabel('Proportion of Users')\n",
        "plt.show()"
      ],
      "metadata": {
        "colab": {
          "base_uri": "https://localhost:8080/",
          "height": 680
        },
        "id": "YMJQKtLe9ukR",
        "outputId": "87a7d620-c7ec-4508-b10e-0776779cc658"
      },
      "id": "YMJQKtLe9ukR",
      "execution_count": 58,
      "outputs": [
        {
          "output_type": "stream",
          "name": "stdout",
          "text": [
            "Repeat Order Rates:\n",
            " Order ID\n",
            "3    0.3\n",
            "1    0.3\n",
            "2    0.2\n",
            "0    0.2\n",
            "Name: proportion, dtype: float64\n"
          ]
        },
        {
          "output_type": "display_data",
          "data": {
            "text/plain": [
              "<Figure size 800x600 with 1 Axes>"
            ],
            "image/png": "[encoded data removed]"
          },
          "metadata": {}
        }
      ]
    },
    {
      "cell_type": "markdown",
      "source": [
        "Session Popularity by Meal Type\n",
        "\n",
        "\n",
        "Identify which meal types are most common during cooking sessions."
      ],
      "metadata": {
        "id": "Q8Pp2xw1-J0l"
      },
      "id": "Q8Pp2xw1-J0l"
    },
    {
      "cell_type": "code",
      "source": [
        "# Sessions by Meal Type\n",
        "meal_type_sessions = cooking_sessions['Meal Type'].value_counts()\n",
        "\n",
        "# Visualization\n",
        "meal_type_sessions.plot(kind='bar', figsize=(10, 6), title='Cooking Sessions by Meal Type')\n",
        "plt.xlabel('Meal Type')\n",
        "plt.ylabel('Number of Sessions')\n",
        "plt.show()"
      ],
      "metadata": {
        "colab": {
          "base_uri": "https://localhost:8080/",
          "height": 617
        },
        "id": "gRL9pK1y966T",
        "outputId": "3bfc391a-11d5-4141-819b-49fceaa59f9b"
      },
      "id": "gRL9pK1y966T",
      "execution_count": 59,
      "outputs": [
        {
          "output_type": "display_data",
          "data": {
            "text/plain": [
              "<Figure size 1000x600 with 1 Axes>"
            ],
            "image/png": "[encoded data removed]"
          },
          "metadata": {}
        }
      ]
    },
    {
      "cell_type": "markdown",
      "source": [
        "Session Ratings by Dish Name\n",
        "\n",
        "Explore which dishes consistently receive high session ratings."
      ],
      "metadata": {
        "id": "JtI1-1wI-Qt2"
      },
      "id": "JtI1-1wI-Qt2"
    },
    {
      "cell_type": "code",
      "source": [
        "# Average session rating by dish\n",
        "dish_ratings = merged_data.groupby('Dish Name_y')['Session Rating'].mean().sort_values(ascending=False).head(10)\n",
        "print(dish_ratings)\n",
        "\n",
        "# Visualization\n",
        "dish_ratings.plot(kind='bar', figsize=(10, 6), title='Top Dishes by Average Session Rating')\n",
        "plt.xlabel('Dish Name')\n",
        "plt.ylabel('Average Session Rating')\n",
        "plt.show()"
      ],
      "metadata": {
        "colab": {
          "base_uri": "https://localhost:8080/",
          "height": 794
        },
        "id": "nZj0lXBg-Mfb",
        "outputId": "f6c369d6-2873-4ffe-e977-3a3a0ed10dcf"
      },
      "id": "nZj0lXBg-Mfb",
      "execution_count": 75,
      "outputs": [
        {
          "output_type": "stream",
          "name": "stdout",
          "text": [
            "Dish Name_y\n",
            "Grilled Chicken    4.577778\n",
            "Pancakes           4.566667\n",
            "Veggie Burger      4.525000\n",
            "Spaghetti          4.488889\n",
            "Caesar Salad       4.400000\n",
            "Oatmeal            4.133333\n",
            "Name: Session Rating, dtype: float64\n"
          ]
        },
        {
          "output_type": "display_data",
          "data": {
            "text/plain": [
              "<Figure size 1000x600 with 1 Axes>"
            ],
            "image/png": "[encoded data removed]"
          },
          "metadata": {}
        }
      ]
    },
    {
      "cell_type": "markdown",
      "source": [
        "### Exporting Merged and Cleaned data"
      ],
      "metadata": {
        "id": "9pFIkgUY_oKd"
      },
      "id": "9pFIkgUY_oKd"
    },
    {
      "cell_type": "code",
      "source": [
        "merged_data.to_excel(\"cleaned_data.xlsx\", index=False)"
      ],
      "metadata": {
        "id": "GoweM3sK-TXl"
      },
      "id": "GoweM3sK-TXl",
      "execution_count": 61,
      "outputs": []
    }
  ],
  "metadata": {
    "kernelspec": {
      "display_name": "Python 3 (ipykernel)",
      "language": "python",
      "name": "python3"
    },
    "language_info": {
      "codemirror_mode": {
        "name": "ipython",
        "version": 3
      },
      "file_extension": ".py",
      "mimetype": "text/x-python",
      "name": "python",
      "nbconvert_exporter": "python",
      "pygments_lexer": "ipython3",
      "version": "3.12.4"
    },
    "colab": {
      "provenance": []
    }
  },
  "nbformat": 4,
  "nbformat_minor": 5
}